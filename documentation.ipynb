{
 "cells": [
  {
   "cell_type": "code",
   "execution_count": null,
   "id": "adcef7a2",
   "metadata": {},
   "outputs": [],
   "source": [
    "# Auto-Reload Setup für Entwicklung\n",
    "# Automatisches Neuladen aller Module bei Änderungen\n",
    "%load_ext autoreload\n",
    "%autoreload 2"
   ]
  },
  {
   "cell_type": "markdown",
   "id": "d91398ee",
   "metadata": {},
   "source": [
    "# Persönliche Dokumentation für das Tool\n",
    "## Anforderungen\n",
    "- CSV Exportdatei aus mLife entgegen nehmen (\"gesamte_akte.csv\")\n",
    "- Alle (oder zumindest für RedCap erforderliche) Daten in ein Dataframe parsen\n",
    "- Darstellung und Konfiguration des Exports mit Streamlit\n",
    "- Export als CSV, welche in RedCap importiert werden kann"
   ]
  },
  {
   "cell_type": "markdown",
   "id": "ae6783bf",
   "metadata": {},
   "source": [
    "## Übersicht Datenfluss\n",
    "CSV-Import \n",
    "-> Parsing \n",
    "-> Dataframe für jede Kategorie \n",
    "-> Auswahl in Streamlit & Aggregation\n",
    "-> RedCap-DB optimiertes DataFrame\n",
    "-> CSV-Export"
   ]
  },
  {
   "cell_type": "markdown",
   "id": "637a45fe",
   "metadata": {},
   "source": [
    "## Import\n",
    "- aus mLife wird eine CSV-Datei der gesamten_akte exportiert; der Delimiter kann zwischen \";\" und \"|\" gewählt werden\n",
    "### Parsing der Daten in den State (`StateProvider`)\n",
    "- `state_provider.state_provider_class StateProvider` initiiert sich selbst und exportiert sich als `state_provider`\n",
    "    - `state_provider` verwaltet und liefert App-weit alle Daten in Form der Pydantic-Klasse `schemas.app_state_schema.app_state AppState`\n",
    "        - `ParsedData`, `Views` und `UiState`\n",
    "- `state_provider.parse_data_to_state()` nimmt die importierte CSV-Datei entgegen\n",
    "    - übergibt die Datei an den Parser `services.data_parser DataParser`, wo durch den Aufruf `DataParser(file, delimiter)` die Parser-Klasser initiiert wird\n",
    "    - StateProvider ruft die einzelnen Parser-Methoden auf, die wiederum Dataframes für jede Kategorie an Daten (bspw. Laborwerte, Vitalwerte, NIRS) liefern\n",
    "    - StateProvider erzeugt aus allen generierten DataFrames eine Instanz der Pydantic-Klasse `schemas.app_state_schemas.app_state ParsedData`\n",
    "    - StateProvider legt diese `ParsedData`-Instanz im `AppState.parsed_data`ab\n",
    "### Verarbeitung im `DataParser`\n",
    "- Bei Initiierung lädt der DataParser erstmal nur das File\n",
    "- wenn das erste mal eine Parsing-Funktion aufgerufen wird, wird die Datei mit `DataParser._split_blocks()` und `DataParser._clean_csv()` bereinigt und als Objekt mit einzelnen Datenblöcken gespeichert nach dem Schema in `DataParser.header`\n",
    "- `DataParser`enthält dann verschiedene Parser-Methoden, die aus diesem `blocks`-Objekt Pandas DataFrames anhand der Pydantic-Schemata aus `schemas.parse_schemas` erzeugt\n",
    "    - `_parse_table_data`\n",
    "    - `parse_nirs_logic()`\n",
    "    - `parse_medication_logic()`\n",
    "    - `parse_fluidbalance_logic()`\n",
    "    - `parse_from_all_patient_data()`\n",
    "    - `parse_all_patient_data()` (wird von o.g. Funktionen benötigt, allerdings auch externer Aufruf mgl.)\n",
    "    - `parse_respiratory_data()`\n",
    "### Datenimport im UI\n",
    "#### Homepage\n",
    "- Hier wird die gesamte_akte.csv hochgeladen und der Delimiter festegelegt\n",
    "- Wird nur angezeigt, wenn `AppState.parsed_data`\n",
    "#### Sidebar\n",
    "- Gibt Zugriff auf die verschiedenen Views und den ausgewählten Zeitraum für die Aggregation und Export-Logik\n",
    "#### Overview\n",
    "- Gesamtzahl der parsed Datensätze wird angezeigt\n",
    "- Zeitraum der Aufzeichnungen wird angezeigt mit `state_provider.get_time_range()`\n",
    "- Zeiträume für einzelne Geräte (Impella, ECMO) wird angezeigt mit `state_provider.get_device_time_ranges()`\n",
    "\n"
   ]
  },
  {
   "cell_type": "markdown",
   "id": "9735873f",
   "metadata": {},
   "source": [
    "## Aggregation\n",
    "- Für die Abfrage von Daten ist ebenfalls der `state_provider` zuständig"
   ]
  },
  {
   "cell_type": "code",
   "execution_count": 2,
   "id": "a480851c",
   "metadata": {},
   "outputs": [
    {
     "name": "stdout",
     "output_type": "stream",
     "text": [
      "Verfügbare StateProvider Methoden:\n",
      "   1. data_parser\n",
      "   2. get_device_time_ranges\n",
      "   3. get_respiration_type\n",
      "   4. get_respiratory_value\n",
      "   5. get_selected_view\n",
      "   6. get_state\n",
      "   7. get_time_of_mcs\n",
      "   8. get_time_range\n",
      "   9. get_vasoactive_agents_df\n",
      "  10. get_vitals_value\n",
      "  11. has_device_past_24h\n",
      "  12. has_mcs_records_past_24h\n",
      "  13. has_parsed_data\n",
      "  14. parse_data_to_state\n",
      "  15. query_data\n",
      "  16. reset_state\n",
      "  17. save_state\n",
      "  18. set_selected_time_range\n",
      "  19. update_state\n"
     ]
    }
   ],
   "source": [
    "# Alle Methoden von state_provider\n",
    "from state_provider.state_provider_class import state_provider\n",
    "def show_available_methods():\n",
    "    methods = [method for method in dir(state_provider) if not method.startswith('_')]\n",
    "    print(\"Verfügbare StateProvider Methoden:\")\n",
    "    for i, method in enumerate(methods, 1):\n",
    "        print(f\"  {i:2}. {method}\")\n",
    "    return methods\n",
    "\n",
    "# Methoden anzeigen\n",
    "available_methods = show_available_methods()"
   ]
  },
  {
   "cell_type": "markdown",
   "id": "874869c8",
   "metadata": {},
   "source": [
    "Die mächtigste Methode ist hier `StateProvider.query_data()`\n",
    "- Neben einfachen Abfragen von ganzen Kategorien ermöglicht sie queries mit sehr differenzierten abfage-Strings\n",
    "- mögliche Filter für `value_strategy`: \"first\", \"last\", \"median\", \"mean\", \"nearest\""
   ]
  },
  {
   "cell_type": "code",
   "execution_count": null,
   "id": "eb9e4578",
   "metadata": {},
   "outputs": [],
   "source": [
    "from datetime import datetime, time\n",
    "\n",
    "file = \"data/gesamte_akte2.csv\"\n",
    "delimiter = \"|\"\n",
    "state = state_provider.parse_data_to_state(file, delimiter)\n",
    "\n",
    "vitals = state_provider.query_data(\"vitals\")\n",
    "ecmo = state_provider.query_data(\"ecmo\")\n",
    "\n",
    "test_date = datetime(2025,9,15).date()\n",
    "art = state_provider.query_data(\"vitals\", {'timestamp': test_date, 'parameter': \"ARTs\", 'value_strategy': \"median\"})\n",
    "\n",
    "heparin = state_provider.query_data(\"medication\", {\"medication\": \"heparin\", \"stop\": test_date})\n",
    "\n",
    "near_lactat = state_provider.query_data(\"lab\", {\"timestamp\": datetime(2025,9,15).date(), \"parameter\": \"Lactat\",\"category\": \"Blutgase arteriell\", \"value_strategy\": {\"nearest\": time(12, 0)}})\n"
   ]
  },
  {
   "cell_type": "markdown",
   "id": "8b2e62b1",
   "metadata": {},
   "source": [
    "### Data Exploration (UI)\n",
    "- Views für alle Kategorien werden in der `sidebar` zugänglich gemacht\n",
    "- View ruft alle verfügbaren Daten der Kategorie mit `StateProver.query_data()` ab\n",
    "- View erzeugt eine Auswahl von Unter-Kategorie, Parametern, Zeitraum, Value-Strategy => `StateProver.query_data()`\n",
    "- View zeigt die nach dieser Auswahl gefilterten Daten als Tabelle(n)\n",
    "- Views zeigt die nach dieser Auswahl gefilterten numerischen Daten graphisch"
   ]
  },
  {
   "cell_type": "markdown",
   "id": "2ee42b9e",
   "metadata": {},
   "source": [
    "### RedCap Form (UI)"
   ]
  },
  {
   "cell_type": "code",
   "execution_count": null,
   "id": "1b3d230b",
   "metadata": {},
   "outputs": [],
   "source": []
  }
 ],
 "metadata": {
  "kernelspec": {
   "display_name": "clean-mlife (3.13.7)",
   "language": "python",
   "name": "python3"
  },
  "language_info": {
   "codemirror_mode": {
    "name": "ipython",
    "version": 3
   },
   "file_extension": ".py",
   "mimetype": "text/x-python",
   "name": "python",
   "nbconvert_exporter": "python",
   "pygments_lexer": "ipython3",
   "version": "3.13.7"
  }
 },
 "nbformat": 4,
 "nbformat_minor": 5
}
