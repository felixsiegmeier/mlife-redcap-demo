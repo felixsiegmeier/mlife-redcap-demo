{
 "cells": [
  {
   "cell_type": "markdown",
   "id": "d91398ee",
   "metadata": {},
   "source": [
    "# Persönliche Dokumentation für das Tool\n",
    "## Anforderungen\n",
    "- CSV Exportdatei aus mLife entgegen nehmen (\"gesamte_akte.csv\")\n",
    "- Alle (oder zumindest für RedCap erforderliche) Daten in ein Dataframe parsen\n",
    "- Darstellung und Konfiguration des Exports mit Streamlit\n",
    "- Export als CSV, welche in RedCap importiert werden kann"
   ]
  },
  {
   "cell_type": "markdown",
   "id": "ae6783bf",
   "metadata": {},
   "source": [
    "## Übersicht Datenfluss\n",
    "CSV-Import \n",
    "-> Parsing \n",
    "-> Dataframe für jede Kategorie \n",
    "-> Auswahl in Streamlit & Aggregation\n",
    "-> RedCap-DB optimiertes DataFrame\n",
    "-> CSV-Export"
   ]
  },
  {
   "cell_type": "markdown",
   "id": "637a45fe",
   "metadata": {},
   "source": [
    "## Import\n",
    "- aus mLife wird eine CSV-Datei der gesamten_akte exportiert; der Delimiter kann zwischen \";\" und \"|\" gewählt werden\n",
    "### Parsing der Daten in den State (`StateProvider`)\n",
    "- `state_provider.state_provider_class StateProvider` initiiert sich selbst und exportiert sich als `state_provider`\n",
    "    - `state_provider` verwaltet und liefert App-weit alle Daten in Form der Pydantic-Klasse `schemas.app_state_schema.app_state AppState`\n",
    "        - `ParsedData`, `Views` und `UiState`\n",
    "- `state_provider.parse_data_to_state()` nimmt die importierte CSV-Datei entgegen\n",
    "    - übergibt die Datei an den Parser `services.data_parser DataParser`, wo durch den Aufruf `DataParser(file, delimiter)` die Parser-Klasser initiiert wird\n",
    "    - StateProvider ruft die einzelnen Parser-Methoden auf, die wiederum Dataframes für jede Kategorie an Daten (bspw. Laborwerte, Vitalwerte, NIRS) liefern\n",
    "    - StateProvider erzeugt aus allen generierten DataFrames eine Instanz der Pydantic-Klasse `schemas.app_state_schemas.app_state ParsedData`\n",
    "    - StateProvider legt diese `ParsedData`-Instanz im `AppState.parsed_data`ab\n",
    "### Verarbeitung im `DataParser`\n",
    "- Bei Initiierung lädt der DataParser erstmal nur das File\n",
    "- wenn das erste mal eine Parsing-Funktion aufgerufen wird, wird die Datei mit `DataParser._split_blocks()` und `DataParser._clean_csv()` bereinigt und als Objekt mit einzelnen Datenblöcken gespeichert nach dem Schema in `DataParser.header`\n",
    "- `DataParser`enthält dann verschiedene Parser-Methoden, die aus diesem `blocks`-Objekt Strukturierte Pandas DataFrames anhand der Pydantic-Schemata aus `schemas.parse_schemas` erzeugt"
   ]
  },
  {
   "cell_type": "markdown",
   "id": "2e1cace6",
   "metadata": {},
   "source": []
  }
 ],
 "metadata": {
  "language_info": {
   "name": "python"
  }
 },
 "nbformat": 4,
 "nbformat_minor": 5
}
