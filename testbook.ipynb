{
 "cells": [
  {
   "cell_type": "code",
   "execution_count": 1,
   "id": "e4925d95",
   "metadata": {},
   "outputs": [],
   "source": [
    "# Auto-Reload Setup für Entwicklung\n",
    "# Automatisches Neuladen aller Module bei Änderungen\n",
    "%load_ext autoreload\n",
    "%autoreload 2"
   ]
  },
  {
   "cell_type": "code",
   "execution_count": 2,
   "id": "076c6043",
   "metadata": {},
   "outputs": [
    {
     "name": "stderr",
     "output_type": "stream",
     "text": [
      "/Users/felixsiegmeier/Library/Mobile Documents/com~apple~CloudDocs/Coding/Code/Python/Projekte 2025/clean-mlife/.venv/lib/python3.13/site-packages/pydantic/_internal/_config.py:373: UserWarning: Valid config keys have changed in V2:\n",
      "* 'orm_mode' has been renamed to 'from_attributes'\n",
      "  warnings.warn(message, UserWarning)\n"
     ]
    },
    {
     "name": "stdout",
     "output_type": "stream",
     "text": [
      "✅ Module erfolgreich importiert mit Auto-Reload aktiviert\n"
     ]
    },
    {
     "name": "stderr",
     "output_type": "stream",
     "text": [
      "/Users/felixsiegmeier/Library/Mobile Documents/com~apple~CloudDocs/Coding/Code/Python/Projekte 2025/clean-mlife/.venv/lib/python3.13/site-packages/pydantic/_internal/_config.py:373: UserWarning: Valid config keys have changed in V2:\n",
      "* 'orm_mode' has been renamed to 'from_attributes'\n",
      "  warnings.warn(message, UserWarning)\n"
     ]
    }
   ],
   "source": [
    "# Imports - werden automatisch neu geladen bei Änderungen\n",
    "from services.parsers.parse_vitals_data import parse_vitals_data\n",
    "from services.parsers.parse_respiratory_data import parse_respiratory_data\n",
    "from services.parsers.parse_lab_data import parse_lab_data\n",
    "from services.parsers.parse_ecmo_data import parse_ecmo_data\n",
    "from services.parsers.parse_impella_data import parse_impella_data\n",
    "from services.parsers.parse_crrt_data import parse_crrt_data\n",
    "from services.parsers.parse_medication_data import parse_medication_data\n",
    "from services.parsers.parse_fluidbalance_data import parse_fluidbalance_data\n",
    "from state_provider.state_provider_class import state_provider\n",
    "from datetime import datetime\n",
    "\n",
    "print(\"✅ Module erfolgreich importiert mit Auto-Reload aktiviert\")"
   ]
  },
  {
   "cell_type": "code",
   "execution_count": 3,
   "id": "84177003",
   "metadata": {},
   "outputs": [
    {
     "name": "stderr",
     "output_type": "stream",
     "text": [
      "2025-10-20 10:12:59.690 WARNING streamlit.runtime.scriptrunner_utils.script_run_context: Thread 'MainThread': missing ScriptRunContext! This warning can be ignored when running in bare mode.\n",
      "2025-10-20 10:12:59.691 WARNING streamlit.runtime.state.session_state_proxy: Session state does not function when running a script without `streamlit run`\n",
      "2025-10-20 10:12:59.691 WARNING streamlit.runtime.scriptrunner_utils.script_run_context: Thread 'MainThread': missing ScriptRunContext! This warning can be ignored when running in bare mode.\n",
      "2025-10-20 10:12:59.692 WARNING streamlit.runtime.scriptrunner_utils.script_run_context: Thread 'MainThread': missing ScriptRunContext! This warning can be ignored when running in bare mode.\n",
      "2025-10-20 10:12:59.692 WARNING streamlit.runtime.scriptrunner_utils.script_run_context: Thread 'MainThread': missing ScriptRunContext! This warning can be ignored when running in bare mode.\n",
      "2025-10-20 10:13:00.080 WARNING streamlit.runtime.scriptrunner_utils.script_run_context: Thread 'MainThread': missing ScriptRunContext! This warning can be ignored when running in bare mode.\n",
      "2025-10-20 10:13:00.080 WARNING streamlit.runtime.scriptrunner_utils.script_run_context: Thread 'MainThread': missing ScriptRunContext! This warning can be ignored when running in bare mode.\n"
     ]
    },
    {
     "name": "stdout",
     "output_type": "stream",
     "text": [
      "✅ Daten erfolgreich geparst\n"
     ]
    }
   ],
   "source": [
    "# Daten laden und parsen\n",
    "CSV = \"data/gesamte_akte.csv\"\n",
    "file = open(CSV, \"r\", encoding=\"utf-8\").read()\n",
    "DELIMITER = \";\"\n",
    "state = state_provider.parse_data_to_state(file, DELIMITER)\n",
    "\n",
    "print(\"✅ Daten erfolgreich geparst\")"
   ]
  },
  {
   "cell_type": "code",
   "execution_count": 4,
   "id": "5ddc0849",
   "metadata": {},
   "outputs": [
    {
     "name": "stdout",
     "output_type": "stream",
     "text": [
      "Verfügbare StateProvider Methoden:\n",
      "   1. data_parser\n",
      "   2. get_device_time_ranges\n",
      "   3. get_selected_view\n",
      "   4. get_state\n",
      "   5. get_time_of_mcs\n",
      "   6. get_time_range\n",
      "   7. get_vitals_value\n",
      "   8. has_device_past_24h\n",
      "   9. has_mcs_records_past_24h\n",
      "  10. has_parsed_data\n",
      "  11. parse_data_to_state\n",
      "  12. reset_state\n",
      "  13. save_state\n",
      "  14. set_selected_time_range\n",
      "  15. update_state\n"
     ]
    }
   ],
   "source": [
    "# Hilfsfunktion: Alle verfügbaren Methoden anzeigen\n",
    "def show_available_methods():\n",
    "    methods = [method for method in dir(state_provider) if not method.startswith('_')]\n",
    "    print(\"Verfügbare StateProvider Methoden:\")\n",
    "    for i, method in enumerate(methods, 1):\n",
    "        print(f\"  {i:2}. {method}\")\n",
    "    return methods\n",
    "\n",
    "# Methoden anzeigen\n",
    "available_methods = show_available_methods()"
   ]
  },
  {
   "cell_type": "code",
   "execution_count": 5,
   "id": "3b3b470b",
   "metadata": {},
   "outputs": [
    {
     "name": "stderr",
     "output_type": "stream",
     "text": [
      "2025-10-20 10:13:00.119 WARNING streamlit.runtime.scriptrunner_utils.script_run_context: Thread 'MainThread': missing ScriptRunContext! This warning can be ignored when running in bare mode.\n",
      "2025-10-20 10:13:00.119 WARNING streamlit.runtime.scriptrunner_utils.script_run_context: Thread 'MainThread': missing ScriptRunContext! This warning can be ignored when running in bare mode.\n"
     ]
    },
    {
     "ename": "AttributeError",
     "evalue": "'NoneType' object has no attribute 'iloc'",
     "output_type": "error",
     "traceback": [
      "\u001b[31m---------------------------------------------------------------------------\u001b[39m",
      "\u001b[31mAttributeError\u001b[39m                            Traceback (most recent call last)",
      "\u001b[36mCell\u001b[39m\u001b[36m \u001b[39m\u001b[32mIn[5]\u001b[39m\u001b[32m, line 4\u001b[39m\n\u001b[32m      2\u001b[39m \u001b[38;5;28;01mfrom\u001b[39;00m\u001b[38;5;250m \u001b[39m\u001b[34;01mservices\u001b[39;00m\u001b[34;01m.\u001b[39;00m\u001b[34;01mdate_as_datetime\u001b[39;00m\u001b[38;5;250m \u001b[39m\u001b[38;5;28;01mimport\u001b[39;00m get_date_as_datetime\n\u001b[32m      3\u001b[39m ecmo = state_provider.get_device_time_ranges(\u001b[33m\"\u001b[39m\u001b[33mecmo\u001b[39m\u001b[33m\"\u001b[39m)\n\u001b[32m----> \u001b[39m\u001b[32m4\u001b[39m date = get_date_as_datetime(\u001b[43mecmo\u001b[49m\u001b[43m.\u001b[49m\u001b[43miloc\u001b[49m[\u001b[32m0\u001b[39m].\u001b[34m__getattr__\u001b[39m(\u001b[33m\"\u001b[39m\u001b[33mend\u001b[39m\u001b[33m\"\u001b[39m))\n\u001b[32m      5\u001b[39m mct_time = state_provider.get_time_of_mcs(date)\n",
      "\u001b[31mAttributeError\u001b[39m: 'NoneType' object has no attribute 'iloc'"
     ]
    }
   ],
   "source": [
    "# get's last date of ecmo as example of a day with full mcs support\n",
    "from services.date_as_datetime import get_date_as_datetime\n",
    "ecmo = state_provider.get_device_time_ranges(\"ecmo\")\n",
    "date = get_date_as_datetime(ecmo.iloc[0].__getattr__(\"end\"))\n",
    "mct_time = state_provider.get_time_of_mcs(date)"
   ]
  },
  {
   "cell_type": "code",
   "execution_count": null,
   "id": "19a4fd08",
   "metadata": {},
   "outputs": [],
   "source": [
    "from services.data_parser import DataParser\n",
    "parser = DataParser(file, \";\")"
   ]
  },
  {
   "cell_type": "code",
   "execution_count": null,
   "id": "51a3159f",
   "metadata": {},
   "outputs": [],
   "source": [
    "parse_medication_data = parser.parse_medication_data()"
   ]
  },
  {
   "cell_type": "code",
   "execution_count": null,
   "id": "7ecd4527",
   "metadata": {},
   "outputs": [],
   "source": [
    "nirs = parser._get_from_all_patient_data_by_string(\"NIRS\")"
   ]
  },
  {
   "cell_type": "code",
   "execution_count": null,
   "id": "65f6e24d",
   "metadata": {},
   "outputs": [
    {
     "name": "stderr",
     "output_type": "stream",
     "text": [
      "2025-10-20 10:02:52.316 WARNING streamlit.runtime.scriptrunner_utils.script_run_context: Thread 'MainThread': missing ScriptRunContext! This warning can be ignored when running in bare mode.\n",
      "2025-10-20 10:02:52.317 WARNING streamlit.runtime.scriptrunner_utils.script_run_context: Thread 'MainThread': missing ScriptRunContext! This warning can be ignored when running in bare mode.\n"
     ]
    }
   ],
   "source": [
    "#state_provider.get_vitals_value(datetime.strptime(\"2024-09-07\", \"%Y-%m-%d\").date(), \"on\", \"blood_pressure\", \"mean\")\n",
    "state = state_provider.get_state()\n",
    "vitals = state.parsed_data.vitals"
   ]
  },
  {
   "cell_type": "code",
   "execution_count": 6,
   "id": "bd9b8071",
   "metadata": {},
   "outputs": [
    {
     "name": "stderr",
     "output_type": "stream",
     "text": [
      "2025-10-20 10:13:56.905 WARNING streamlit.runtime.scriptrunner_utils.script_run_context: Thread 'MainThread': missing ScriptRunContext! This warning can be ignored when running in bare mode.\n",
      "2025-10-20 10:13:56.906 WARNING streamlit.runtime.scriptrunner_utils.script_run_context: Thread 'MainThread': missing ScriptRunContext! This warning can be ignored when running in bare mode.\n",
      "2025-10-20 10:13:56.906 WARNING streamlit.runtime.scriptrunner_utils.script_run_context: Thread 'MainThread': missing ScriptRunContext! This warning can be ignored when running in bare mode.\n"
     ]
    }
   ],
   "source": [
    "# Filter rows where the category contains \"Online\"\n",
    "# use .str.contains to get a boolean mask (safer than \"in\" on a Series)\n",
    "abp = state_provider.get_vitals_value(datetime.strptime(\"2025-09-16\", \"%Y-%m-%d\").date(), \"ABP\")\n",
    "abp"
   ]
  },
  {
   "cell_type": "code",
   "execution_count": null,
   "id": "d5780f1a",
   "metadata": {},
   "outputs": [],
   "source": []
  },
  {
   "cell_type": "code",
   "execution_count": null,
   "id": "f48c5dac",
   "metadata": {},
   "outputs": [],
   "source": []
  }
 ],
 "metadata": {
  "kernelspec": {
   "display_name": "clean-mlife (3.13.7)",
   "language": "python",
   "name": "python3"
  },
  "language_info": {
   "codemirror_mode": {
    "name": "ipython",
    "version": 3
   },
   "file_extension": ".py",
   "mimetype": "text/x-python",
   "name": "python",
   "nbconvert_exporter": "python",
   "pygments_lexer": "ipython3",
   "version": "3.13.7"
  }
 },
 "nbformat": 4,
 "nbformat_minor": 5
}
