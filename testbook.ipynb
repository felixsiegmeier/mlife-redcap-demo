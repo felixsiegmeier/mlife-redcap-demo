{
 "cells": [
  {
   "cell_type": "code",
   "execution_count": 1,
   "id": "e4925d95",
   "metadata": {},
   "outputs": [],
   "source": [
    "# Auto-Reload Setup für Entwicklung\n",
    "# Automatisches Neuladen aller Module bei Änderungen\n",
    "%load_ext autoreload\n",
    "%autoreload 2"
   ]
  },
  {
   "cell_type": "code",
   "execution_count": 2,
   "id": "076c6043",
   "metadata": {},
   "outputs": [
    {
     "name": "stderr",
     "output_type": "stream",
     "text": [
      "/Users/felixsiegmeier/Library/Mobile Documents/com~apple~CloudDocs/Coding/Code/Python/Projekte 2025/clean-mlife/.venv/lib/python3.13/site-packages/pydantic/_internal/_config.py:373: UserWarning: Valid config keys have changed in V2:\n",
      "* 'orm_mode' has been renamed to 'from_attributes'\n",
      "  warnings.warn(message, UserWarning)\n"
     ]
    },
    {
     "name": "stdout",
     "output_type": "stream",
     "text": [
      "✅ Module erfolgreich importiert mit Auto-Reload aktiviert\n"
     ]
    },
    {
     "name": "stderr",
     "output_type": "stream",
     "text": [
      "/Users/felixsiegmeier/Library/Mobile Documents/com~apple~CloudDocs/Coding/Code/Python/Projekte 2025/clean-mlife/.venv/lib/python3.13/site-packages/pydantic/_internal/_config.py:373: UserWarning: Valid config keys have changed in V2:\n",
      "* 'orm_mode' has been renamed to 'from_attributes'\n",
      "  warnings.warn(message, UserWarning)\n"
     ]
    }
   ],
   "source": [
    "# Imports - werden automatisch neu geladen bei Änderungen\n",
    "from services.parsers.parse_vitals_data import parse_vitals_data\n",
    "from services.parsers.parse_respiratory_data import parse_respiratory_data\n",
    "from services.parsers.parse_lab_data import parse_lab_data\n",
    "from services.parsers.parse_ecmo_data import parse_ecmo_data\n",
    "from services.parsers.parse_impella_data import parse_impella_data\n",
    "from services.parsers.parse_crrt_data import parse_crrt_data\n",
    "from services.parsers.parse_medication_data import parse_medication_data\n",
    "from services.parsers.parse_fluidbalance_data import parse_fluidbalance_data\n",
    "from state_provider.state_provider_class import state_provider\n",
    "\n",
    "print(\"✅ Module erfolgreich importiert mit Auto-Reload aktiviert\")"
   ]
  },
  {
   "cell_type": "code",
   "execution_count": 3,
   "id": "84177003",
   "metadata": {},
   "outputs": [
    {
     "name": "stderr",
     "output_type": "stream",
     "text": [
      "2025-10-18 21:40:32.011 WARNING streamlit.runtime.scriptrunner_utils.script_run_context: Thread 'MainThread': missing ScriptRunContext! This warning can be ignored when running in bare mode.\n",
      "2025-10-18 21:40:32.012 WARNING streamlit.runtime.state.session_state_proxy: Session state does not function when running a script without `streamlit run`\n",
      "2025-10-18 21:40:32.012 WARNING streamlit.runtime.scriptrunner_utils.script_run_context: Thread 'MainThread': missing ScriptRunContext! This warning can be ignored when running in bare mode.\n",
      "2025-10-18 21:40:32.012 WARNING streamlit.runtime.scriptrunner_utils.script_run_context: Thread 'MainThread': missing ScriptRunContext! This warning can be ignored when running in bare mode.\n",
      "2025-10-18 21:40:32.012 WARNING streamlit.runtime.state.session_state_proxy: Session state does not function when running a script without `streamlit run`\n",
      "2025-10-18 21:40:32.012 WARNING streamlit.runtime.scriptrunner_utils.script_run_context: Thread 'MainThread': missing ScriptRunContext! This warning can be ignored when running in bare mode.\n",
      "2025-10-18 21:40:32.012 WARNING streamlit.runtime.scriptrunner_utils.script_run_context: Thread 'MainThread': missing ScriptRunContext! This warning can be ignored when running in bare mode.\n",
      "2025-10-18 21:40:32.012 WARNING streamlit.runtime.scriptrunner_utils.script_run_context: Thread 'MainThread': missing ScriptRunContext! This warning can be ignored when running in bare mode.\n",
      "2025-10-18 21:40:32.012 WARNING streamlit.runtime.scriptrunner_utils.script_run_context: Thread 'MainThread': missing ScriptRunContext! This warning can be ignored when running in bare mode.\n",
      "2025-10-18 21:40:32.270 WARNING streamlit.runtime.scriptrunner_utils.script_run_context: Thread 'MainThread': missing ScriptRunContext! This warning can be ignored when running in bare mode.\n",
      "2025-10-18 21:40:32.271 WARNING streamlit.runtime.scriptrunner_utils.script_run_context: Thread 'MainThread': missing ScriptRunContext! This warning can be ignored when running in bare mode.\n",
      "2025-10-18 21:40:32.270 WARNING streamlit.runtime.scriptrunner_utils.script_run_context: Thread 'MainThread': missing ScriptRunContext! This warning can be ignored when running in bare mode.\n",
      "2025-10-18 21:40:32.271 WARNING streamlit.runtime.scriptrunner_utils.script_run_context: Thread 'MainThread': missing ScriptRunContext! This warning can be ignored when running in bare mode.\n"
     ]
    },
    {
     "name": "stdout",
     "output_type": "stream",
     "text": [
      "✅ Daten erfolgreich geparst\n"
     ]
    }
   ],
   "source": [
    "# Daten laden und parsen\n",
    "CSV = \"data/gesamte_akte.csv\"\n",
    "file = open(CSV, \"r\", encoding=\"utf-8\").read()\n",
    "DELIMITER = \";\"\n",
    "state = state_provider.parse_data_to_state(file, DELIMITER)\n",
    "\n",
    "print(\"✅ Daten erfolgreich geparst\")"
   ]
  },
  {
   "cell_type": "code",
   "execution_count": 4,
   "id": "5ddc0849",
   "metadata": {},
   "outputs": [
    {
     "name": "stdout",
     "output_type": "stream",
     "text": [
      "Verfügbare StateProvider Methoden:\n",
      "   1. data_parser\n",
      "   2. get_device_time_ranges\n",
      "   3. get_selected_view\n",
      "   4. get_state\n",
      "   5. get_time_of_mcs\n",
      "   6. get_time_range\n",
      "   7. has_device_past_24h\n",
      "   8. has_mcs_records_past_24h\n",
      "   9. has_parsed_data\n",
      "  10. parse_data_to_state\n",
      "  11. reset_state\n",
      "  12. save_state\n",
      "  13. set_selected_time_range\n",
      "  14. update_state\n"
     ]
    }
   ],
   "source": [
    "# Hilfsfunktion: Alle verfügbaren Methoden anzeigen\n",
    "def show_available_methods():\n",
    "    methods = [method for method in dir(state_provider) if not method.startswith('_')]\n",
    "    print(\"Verfügbare StateProvider Methoden:\")\n",
    "    for i, method in enumerate(methods, 1):\n",
    "        print(f\"  {i:2}. {method}\")\n",
    "    return methods\n",
    "\n",
    "# Methoden anzeigen\n",
    "available_methods = show_available_methods()"
   ]
  },
  {
   "cell_type": "code",
   "execution_count": 5,
   "id": "3b3b470b",
   "metadata": {},
   "outputs": [
    {
     "name": "stderr",
     "output_type": "stream",
     "text": [
      "2025-10-18 21:40:32.357 WARNING streamlit.runtime.scriptrunner_utils.script_run_context: Thread 'MainThread': missing ScriptRunContext! This warning can be ignored when running in bare mode.\n",
      "2025-10-18 21:40:32.359 WARNING streamlit.runtime.scriptrunner_utils.script_run_context: Thread 'MainThread': missing ScriptRunContext! This warning can be ignored when running in bare mode.\n",
      "2025-10-18 21:40:32.359 WARNING streamlit.runtime.scriptrunner_utils.script_run_context: Thread 'MainThread': missing ScriptRunContext! This warning can be ignored when running in bare mode.\n",
      "2025-10-18 21:40:32.365 WARNING streamlit.runtime.scriptrunner_utils.script_run_context: Thread 'MainThread': missing ScriptRunContext! This warning can be ignored when running in bare mode.\n",
      "2025-10-18 21:40:32.371 WARNING streamlit.runtime.scriptrunner_utils.script_run_context: Thread 'MainThread': missing ScriptRunContext! This warning can be ignored when running in bare mode.\n",
      "2025-10-18 21:40:32.365 WARNING streamlit.runtime.scriptrunner_utils.script_run_context: Thread 'MainThread': missing ScriptRunContext! This warning can be ignored when running in bare mode.\n",
      "2025-10-18 21:40:32.371 WARNING streamlit.runtime.scriptrunner_utils.script_run_context: Thread 'MainThread': missing ScriptRunContext! This warning can be ignored when running in bare mode.\n"
     ]
    }
   ],
   "source": [
    "# get's last date of ecmo as example of a day with full mcs support\n",
    "from services.date_as_datetime import get_date_as_datetime\n",
    "ecmo = state_provider.get_device_time_ranges(\"ecmo\")\n",
    "date = get_date_as_datetime(ecmo.iloc[0].__getattr__(\"end\"))\n",
    "mct_time = state_provider.get_time_of_mcs(date)"
   ]
  },
  {
   "cell_type": "code",
   "execution_count": 6,
   "id": "19a4fd08",
   "metadata": {},
   "outputs": [],
   "source": [
    "from services.data_parser import DataParser\n",
    "parser = DataParser(file, \";\")"
   ]
  },
  {
   "cell_type": "code",
   "execution_count": 7,
   "id": "51a3159f",
   "metadata": {},
   "outputs": [],
   "source": [
    "parse_medication_data = parser.parse_medication_data()"
   ]
  },
  {
   "cell_type": "code",
   "execution_count": 8,
   "id": "a6d2a572",
   "metadata": {},
   "outputs": [
    {
     "data": {
      "text/html": [
       "<div>\n",
       "<style scoped>\n",
       "    .dataframe tbody tr th:only-of-type {\n",
       "        vertical-align: middle;\n",
       "    }\n",
       "\n",
       "    .dataframe tbody tr th {\n",
       "        vertical-align: top;\n",
       "    }\n",
       "\n",
       "    .dataframe thead th {\n",
       "        text-align: right;\n",
       "    }\n",
       "</style>\n",
       "<table border=\"1\" class=\"dataframe\">\n",
       "  <thead>\n",
       "    <tr style=\"text-align: right;\">\n",
       "      <th></th>\n",
       "      <th>medication</th>\n",
       "      <th>category</th>\n",
       "      <th>application</th>\n",
       "      <th>start</th>\n",
       "      <th>stop</th>\n",
       "      <th>concentration</th>\n",
       "      <th>rate</th>\n",
       "    </tr>\n",
       "  </thead>\n",
       "  <tbody>\n",
       "    <tr>\n",
       "      <th>0</th>\n",
       "      <td>ASS STADA 100mg</td>\n",
       "      <td>Medikamente</td>\n",
       "      <td>p.o.</td>\n",
       "      <td>2025-09-11 08:00:00</td>\n",
       "      <td>NaT</td>\n",
       "      <td>100 mg 1 Tabl.</td>\n",
       "      <td>NaN</td>\n",
       "    </tr>\n",
       "    <tr>\n",
       "      <th>1</th>\n",
       "      <td>Jardiance 10mg</td>\n",
       "      <td>Medikamente</td>\n",
       "      <td>p.o.</td>\n",
       "      <td>2025-09-11 08:00:00</td>\n",
       "      <td>NaT</td>\n",
       "      <td>10 mg 1 Tabl.</td>\n",
       "      <td>NaN</td>\n",
       "    </tr>\n",
       "    <tr>\n",
       "      <th>2</th>\n",
       "      <td>Levocomp 100/25mg</td>\n",
       "      <td>Medikamente</td>\n",
       "      <td>p.o.</td>\n",
       "      <td>2025-09-11 08:00:00</td>\n",
       "      <td>NaT</td>\n",
       "      <td>125 mg 1 Tabl.</td>\n",
       "      <td>NaN</td>\n",
       "    </tr>\n",
       "    <tr>\n",
       "      <th>3</th>\n",
       "      <td>Metformin HEXAL 500mg</td>\n",
       "      <td>Medikamente</td>\n",
       "      <td>p.o.</td>\n",
       "      <td>2025-09-11 08:00:00</td>\n",
       "      <td>NaT</td>\n",
       "      <td>500 mg 1 Tabl.</td>\n",
       "      <td>NaN</td>\n",
       "    </tr>\n",
       "    <tr>\n",
       "      <th>4</th>\n",
       "      <td>MetoHEXAL Succ 23,75mg</td>\n",
       "      <td>Medikamente</td>\n",
       "      <td>p.o.</td>\n",
       "      <td>2025-09-11 08:00:00</td>\n",
       "      <td>NaT</td>\n",
       "      <td>23,75 mg 1 Tabl.</td>\n",
       "      <td>NaN</td>\n",
       "    </tr>\n",
       "    <tr>\n",
       "      <th>...</th>\n",
       "      <td>...</td>\n",
       "      <td>...</td>\n",
       "      <td>...</td>\n",
       "      <td>...</td>\n",
       "      <td>...</td>\n",
       "      <td>...</td>\n",
       "      <td>...</td>\n",
       "    </tr>\n",
       "    <tr>\n",
       "      <th>1441</th>\n",
       "      <td>Nutrison Concentrated SmartPack 500ml</td>\n",
       "      <td>Sonden</td>\n",
       "      <td>Sonde</td>\n",
       "      <td>2025-09-27 15:27:00</td>\n",
       "      <td>2025-09-27 20:58:00</td>\n",
       "      <td>446,798 g 500 mL 1 Flasche</td>\n",
       "      <td>65.000000</td>\n",
       "    </tr>\n",
       "    <tr>\n",
       "      <th>1442</th>\n",
       "      <td>Nutrison Concentrated SmartPack 500ml</td>\n",
       "      <td>Sonden</td>\n",
       "      <td>Sonde</td>\n",
       "      <td>2025-09-27 23:03:00</td>\n",
       "      <td>2025-09-28 05:02:00</td>\n",
       "      <td>446,798 g 500 mL 1 Flasche</td>\n",
       "      <td>50.000000</td>\n",
       "    </tr>\n",
       "    <tr>\n",
       "      <th>1443</th>\n",
       "      <td>Nutrison Concentrated SmartPack 500ml</td>\n",
       "      <td>Sonden</td>\n",
       "      <td>Sonde</td>\n",
       "      <td>2025-09-28 05:02:00</td>\n",
       "      <td>2025-09-28 06:51:00</td>\n",
       "      <td>446,798 g 500 mL 1 Flasche</td>\n",
       "      <td>0.000000</td>\n",
       "    </tr>\n",
       "    <tr>\n",
       "      <th>1444</th>\n",
       "      <td>Nutrison Concentrated SmartPack 500ml</td>\n",
       "      <td>Sonden</td>\n",
       "      <td>Sonde</td>\n",
       "      <td>2025-09-28 06:51:00</td>\n",
       "      <td>2025-09-28 12:06:00</td>\n",
       "      <td>446,798 g 500 mL 1 Flasche</td>\n",
       "      <td>30.000000</td>\n",
       "    </tr>\n",
       "    <tr>\n",
       "      <th>1445</th>\n",
       "      <td>Nutrison Concentrated SmartPack 500ml</td>\n",
       "      <td>Sonden</td>\n",
       "      <td>Sonde</td>\n",
       "      <td>2025-09-28 12:06:00</td>\n",
       "      <td>2025-09-29 07:24:00</td>\n",
       "      <td>446,798 g 500 mL 1 Flasche</td>\n",
       "      <td>2.219452</td>\n",
       "    </tr>\n",
       "  </tbody>\n",
       "</table>\n",
       "<p>1446 rows × 7 columns</p>\n",
       "</div>"
      ],
      "text/plain": [
       "                                 medication     category application  \\\n",
       "0                           ASS STADA 100mg  Medikamente        p.o.   \n",
       "1                            Jardiance 10mg  Medikamente        p.o.   \n",
       "2                         Levocomp 100/25mg  Medikamente        p.o.   \n",
       "3                     Metformin HEXAL 500mg  Medikamente        p.o.   \n",
       "4                    MetoHEXAL Succ 23,75mg  Medikamente        p.o.   \n",
       "...                                     ...          ...         ...   \n",
       "1441  Nutrison Concentrated SmartPack 500ml       Sonden       Sonde   \n",
       "1442  Nutrison Concentrated SmartPack 500ml       Sonden       Sonde   \n",
       "1443  Nutrison Concentrated SmartPack 500ml       Sonden       Sonde   \n",
       "1444  Nutrison Concentrated SmartPack 500ml       Sonden       Sonde   \n",
       "1445  Nutrison Concentrated SmartPack 500ml       Sonden       Sonde   \n",
       "\n",
       "                   start                stop               concentration  \\\n",
       "0    2025-09-11 08:00:00                 NaT              100 mg 1 Tabl.   \n",
       "1    2025-09-11 08:00:00                 NaT               10 mg 1 Tabl.   \n",
       "2    2025-09-11 08:00:00                 NaT              125 mg 1 Tabl.   \n",
       "3    2025-09-11 08:00:00                 NaT              500 mg 1 Tabl.   \n",
       "4    2025-09-11 08:00:00                 NaT            23,75 mg 1 Tabl.   \n",
       "...                  ...                 ...                         ...   \n",
       "1441 2025-09-27 15:27:00 2025-09-27 20:58:00  446,798 g 500 mL 1 Flasche   \n",
       "1442 2025-09-27 23:03:00 2025-09-28 05:02:00  446,798 g 500 mL 1 Flasche   \n",
       "1443 2025-09-28 05:02:00 2025-09-28 06:51:00  446,798 g 500 mL 1 Flasche   \n",
       "1444 2025-09-28 06:51:00 2025-09-28 12:06:00  446,798 g 500 mL 1 Flasche   \n",
       "1445 2025-09-28 12:06:00 2025-09-29 07:24:00  446,798 g 500 mL 1 Flasche   \n",
       "\n",
       "           rate  \n",
       "0           NaN  \n",
       "1           NaN  \n",
       "2           NaN  \n",
       "3           NaN  \n",
       "4           NaN  \n",
       "...         ...  \n",
       "1441  65.000000  \n",
       "1442  50.000000  \n",
       "1443   0.000000  \n",
       "1444  30.000000  \n",
       "1445   2.219452  \n",
       "\n",
       "[1446 rows x 7 columns]"
      ]
     },
     "execution_count": 8,
     "metadata": {},
     "output_type": "execute_result"
    }
   ],
   "source": [
    "parse_medication_data"
   ]
  },
  {
   "cell_type": "code",
   "execution_count": 9,
   "id": "7ecd4527",
   "metadata": {},
   "outputs": [],
   "source": [
    "nirs = parser._get_from_all_patient_data_by_string(\"NIRS\")"
   ]
  },
  {
   "cell_type": "code",
   "execution_count": 10,
   "id": "633351b7",
   "metadata": {},
   "outputs": [
    {
     "data": {
      "text/plain": [
       "{'PSI/NIRS/ICP': {'PSI/NIRS/ICP 1': [';;;13.09.2025 17:10;;;;;;;;;;;;;;;;;;',\n",
       "   ';;;;Bein li (per.Sätt.) in %;;;;;37;;;;;;;;;;;;D. B.',\n",
       "   ';;;;NIRS re (cerebr.Sätt.) in %;;;;;61;;;;;;;;;;;;D. B.',\n",
       "   ';;;;NIRS li (cerebr.Sätt.) in %;;;;;63;;;;;;;;;;;;D. B.',\n",
       "   ';;;13.09.2025 21:24;;;;;;;;;;;;;;;;;;',\n",
       "   ';;;;Bein li (per.Sätt.) in %;;;;;42;;;;;;;;;;;;Z. T.',\n",
       "   ';;;;NIRS re (cerebr.Sätt.) in %;;;;;50;;;;;;;;;;;;Z. T.',\n",
       "   ';;;;NIRS li (cerebr.Sätt.) in %;;;;;52;;;;;;;;;;;;Z. T.',\n",
       "   ';;;13.09.2025 23:55;;;;;;;;;;;;;;;;;;',\n",
       "   ';;;;PSI;;;;;30;;;;;;;;;;;;T. H.',\n",
       "   ';;;;NIRS li (per.Sätt.) in %;;;;;42;;;;;;;;;;;;T. H.',\n",
       "   ';;;;NIRS re (cerebr.Sätt.) in %;;;;;41;;;;;;;;;;;;T. H.',\n",
       "   ';;;;NIRS li (cerebr.Sätt.) in %;;;;;48;;;;;;;;;;;;T. H.',\n",
       "   ';;;14.09.2025 05:48;;;;;;;;;;;;;;;;;;',\n",
       "   ';;;;NIRS li (per.Sätt.) in %;;;;;39;;;;;;;;;;;;T. H.',\n",
       "   ';;;;NIRS re (cerebr.Sätt.) in %;;;;;49;;;;;;;;;;;;T. H.',\n",
       "   ';;;;NIRS li (cerebr.Sätt.) in %;;;;;46;;;;;;;;;;;;T. H.',\n",
       "   ';;;14.09.2025 16:17;;;;;;;;;;;;;;;;;;',\n",
       "   ';;;;Bein li (per.Sätt.) in %;;;;;25;;;;;;;;;;;;G. F.',\n",
       "   ';;;;NIRS re (cerebr.Sätt.) in %;;;;;33;;;;;;;;;;;;G. F.',\n",
       "   ';;;;NIRS li (cerebr.Sätt.) in %;;;;;40;;;;;;;;;;;;G. F.',\n",
       "   ';;;14.09.2025 19:51;;;;;;;;;;;;;;;;;;',\n",
       "   ';;;;Bein li (per.Sätt.) in %;;;;;26;;;;;;;;;;;;G. F.',\n",
       "   ';;;;NIRS re (cerebr.Sätt.) in %;;;;;37;;;;;;;;;;;;G. F.',\n",
       "   ';;;;NIRS li (cerebr.Sätt.) in %;;;;;41;;;;;;;;;;;;G. F.',\n",
       "   ';;;14.09.2025 21:28;;;;;;;;;;;;;;;;;;',\n",
       "   ';;;;Bein li (per.Sätt.) in %;;;;;25;;;;;;;;;;;;G. F.',\n",
       "   ';;;;NIRS re (cerebr.Sätt.) in %;;;;;45;;;;;;;;;;;;G. F.',\n",
       "   ';;;;NIRS li (cerebr.Sätt.) in %;;;;;45;;;;;;;;;;;;G. F.',\n",
       "   ';;;14.09.2025 23:25;;;;;;;;;;;;;;;;;;',\n",
       "   ';;;;NIRS li (per.Sätt.) in %;;;;;28;;;;;;;;;;;;T. H.',\n",
       "   ';;;;NIRS re (cerebr.Sätt.) in %;;;;;43;;;;;;;;;;;;T. H.',\n",
       "   ';;;;NIRS li (cerebr.Sätt.) in %;;;;;48;;;;;;;;;;;;T. H.',\n",
       "   ';;;15.09.2025 05:03;;;;;;;;;;;;;;;;;;',\n",
       "   ';;;;NIRS li (per.Sätt.) in %;;;;;30;;;;;;;;;;;;T. H.',\n",
       "   ';;;;NIRS re (cerebr.Sätt.) in %;;;;;46;;;;;;;;;;;;T. H.',\n",
       "   ';;;;NIRS li (cerebr.Sätt.) in %;;;;;56;;;;;;;;;;;;T. H.',\n",
       "   ';;;15.09.2025 15:14;;;;;;;;;;;;;;;;;;',\n",
       "   ';;;;Bein li (per.Sätt.) in %;;;;;37;;;;;;;;;;;;H. L.',\n",
       "   ';;;;NIRS re (cerebr.Sätt.) in %;;;;;55;;;;;;;;;;;;H. L.',\n",
       "   ';;;;NIRS li (cerebr.Sätt.) in %;;;;;58;;;;;;;;;;;;H. L.',\n",
       "   ';;;16.09.2025 02:24;;;;;;;;;;;;;;;;;;',\n",
       "   ';;;;PSI;;;;;35;;;;;;;;;;;;T. H.',\n",
       "   ';;;;Bein li (per.Sätt.) in %;;;;;46;;;;;;;;;;;;T. H.',\n",
       "   ';;;;Arm re (per.Sätt.) in %;;;;;81;;;;;;;;;;;;T. H.',\n",
       "   ';;;;NIRS re (cerebr.Sätt.) in %;;;;;54;;;;;;;;;;;;T. H.',\n",
       "   ';;;;NIRS li (cerebr.Sätt.) in %;;;;;50;;;;;;;;;;;;T. H.',\n",
       "   ';;;16.09.2025 23:56;;;;;;;;;;;;;;;;;;',\n",
       "   ';;;;PSI;;;;;79;;;;;;;;;;;;T. H.',\n",
       "   ';;;;Bein li (per.Sätt.) in %;;;;;68;;;;;;;;;;;;T. H.',\n",
       "   ';;;;Arm re (per.Sätt.) in %;;;;;73;;;;;;;;;;;;T. H.',\n",
       "   ';;;;NIRS re (cerebr.Sätt.) in %;;;;;63;;;;;;;;;;;;T. H.',\n",
       "   ';;;;NIRS li (cerebr.Sätt.) in %;;;;;64;;;;;;;;;;;;T. H.',\n",
       "   ';;;17.09.2025 06:38;;;;;;;;;;;;;;;;;;',\n",
       "   ';;;;Bein li (per.Sätt.) in %;;;;;66;;;;;;;;;;;;H. K.',\n",
       "   ';;;;Arm re (per.Sätt.) in %;;;;;76;;;;;;;;;;;;H. K.',\n",
       "   ';;;;NIRS re (cerebr.Sätt.) in %;;;;;68;;;;;;;;;;;;H. K.',\n",
       "   ';;;;NIRS li (cerebr.Sätt.) in %;;;;;67;;;;;;;;;;;;H. K.',\n",
       "   ';;;18.09.2025 07:11;;;;;;;;;;;;;;;;;;',\n",
       "   ';;;;Bein li (per.Sätt.) in %;;;;;57;;;;;;;;;;;;H. K.',\n",
       "   ';;;;NIRS re (cerebr.Sätt.) in %;;;;;58;;;;;;;;;;;;H. K.',\n",
       "   ';;;;NIRS li (cerebr.Sätt.) in %;;;;;68;;;;;;;;;;;;H. K.']}}"
      ]
     },
     "execution_count": 10,
     "metadata": {},
     "output_type": "execute_result"
    }
   ],
   "source": [
    "nirs"
   ]
  },
  {
   "cell_type": "code",
   "execution_count": 18,
   "id": "fd10f86e",
   "metadata": {},
   "outputs": [
    {
     "name": "stdout",
     "output_type": "stream",
     "text": [
      "🎉 NIRS-Parser Implementierung abgeschlossen!\n",
      "==================================================\n",
      "\n",
      "📊 Implementierte Features:\n",
      "✅ Neue parse_nirs_data() Methode in DataParser\n",
      "✅ NIRS-Daten werden als 'nirs' category ins Vitals-DataFrame integriert\n",
      "✅ Unterstützung für alle NIRS-Parameter (cerebral, peripheral, PSI)\n",
      "✅ Korrekte Timestamp-Verarbeitung\n",
      "✅ Integration in AppState.parsed_data.vitals\n",
      "\n",
      "📈 Datenstatistiken:\n",
      "• Gesamt Vitals-Einträge: 3,421\n",
      "• NIRS-Einträge: 48\n",
      "• NIRS-Parameter: 6\n",
      "• Zeitraum: 13.09.2025 17:10 - 18.09.2025 07:11\n",
      "\n",
      "🔍 NIRS-Parameter Details:\n",
      "• Arm re (per.Sätt.) in %: 3 Messwerte\n",
      "• Bein li (per.Sätt.) in %: 10 Messwerte\n",
      "• NIRS li (cerebr.Sätt.) in %: 14 Messwerte\n",
      "• NIRS li (per.Sätt.) in %: 4 Messwerte\n",
      "• NIRS re (cerebr.Sätt.) in %: 14 Messwerte\n",
      "• PSI: 3 Messwerte\n",
      "\n",
      "🚀 Die NIRS-Daten sind jetzt vollständig in das System integriert!\n",
      "   Sie können in der UI als Teil der Vitaldaten angezeigt werden.\n"
     ]
    }
   ],
   "source": [
    "# Finale Zusammenfassung der NIRS-Integration\n",
    "print(\"🎉 NIRS-Parser Implementierung abgeschlossen!\")\n",
    "print(\"=\" * 50)\n",
    "\n",
    "print(\"\\n📊 Implementierte Features:\")\n",
    "print(\"✅ Neue parse_nirs_data() Methode in DataParser\")\n",
    "print(\"✅ NIRS-Daten werden als 'nirs' category ins Vitals-DataFrame integriert\")\n",
    "print(\"✅ Unterstützung für alle NIRS-Parameter (cerebral, peripheral, PSI)\")\n",
    "print(\"✅ Korrekte Timestamp-Verarbeitung\")\n",
    "print(\"✅ Integration in AppState.parsed_data.vitals\")\n",
    "\n",
    "print(\"\\n📈 Datenstatistiken:\")\n",
    "final_vitals = state.parsed_data.vitals\n",
    "nirs_data = final_vitals[final_vitals['category'] == 'nirs']\n",
    "print(f\"• Gesamt Vitals-Einträge: {final_vitals.shape[0]:,}\")\n",
    "print(f\"• NIRS-Einträge: {nirs_data.shape[0]:,}\")\n",
    "print(f\"• NIRS-Parameter: {len(nirs_data['parameter'].unique())}\")\n",
    "print(f\"• Zeitraum: {nirs_data['timestamp'].min().strftime('%d.%m.%Y %H:%M')} - {nirs_data['timestamp'].max().strftime('%d.%m.%Y %H:%M')}\")\n",
    "\n",
    "print(\"\\n🔍 NIRS-Parameter Details:\")\n",
    "for param in sorted(nirs_data['parameter'].unique()):\n",
    "    count = len(nirs_data[nirs_data['parameter'] == param])\n",
    "    print(f\"• {param}: {count} Messwerte\")\n",
    "\n",
    "print(\"\\n🚀 Die NIRS-Daten sind jetzt vollständig in das System integriert!\")\n",
    "print(\"   Sie können in der UI als Teil der Vitaldaten angezeigt werden.\")"
   ]
  }
 ],
 "metadata": {
  "kernelspec": {
   "display_name": "clean-mlife (3.13.7)",
   "language": "python",
   "name": "python3"
  },
  "language_info": {
   "codemirror_mode": {
    "name": "ipython",
    "version": 3
   },
   "file_extension": ".py",
   "mimetype": "text/x-python",
   "name": "python",
   "nbconvert_exporter": "python",
   "pygments_lexer": "ipython3",
   "version": "3.13.7"
  }
 },
 "nbformat": 4,
 "nbformat_minor": 5
}
