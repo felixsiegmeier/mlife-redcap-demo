{
 "cells": [
  {
   "cell_type": "code",
   "execution_count": 1,
   "id": "e4925d95",
   "metadata": {},
   "outputs": [],
   "source": [
    "# Auto-Reload Setup für Entwicklung\n",
    "# Automatisches Neuladen aller Module bei Änderungen\n",
    "%load_ext autoreload\n",
    "%autoreload 2"
   ]
  },
  {
   "cell_type": "code",
   "execution_count": 2,
   "id": "076c6043",
   "metadata": {},
   "outputs": [
    {
     "name": "stdout",
     "output_type": "stream",
     "text": [
      "✅ Module erfolgreich importiert mit Auto-Reload aktiviert\n"
     ]
    }
   ],
   "source": [
    "# Imports - werden automatisch neu geladen bei Änderungen\n",
    "from services.parsers.parse_vitals_data import parse_vitals_data\n",
    "from services.parsers.parse_respiratory_data import parse_respiratory_data\n",
    "from services.parsers.parse_lab_data import parse_lab_data\n",
    "from services.parsers.parse_ecmo_data import parse_ecmo_data\n",
    "from services.parsers.parse_impella_data import parse_impella_data\n",
    "from services.parsers.parse_crrt_data import parse_crrt_data\n",
    "from services.parsers.parse_medication_data import parse_medication_data\n",
    "from services.parsers.parse_fluidbalance_data import parse_fluidbalance_data\n",
    "from state_provider.state_provider_class import state_provider\n",
    "from datetime import datetime\n",
    "\n",
    "print(\"✅ Module erfolgreich importiert mit Auto-Reload aktiviert\")"
   ]
  },
  {
   "cell_type": "code",
   "execution_count": 3,
   "id": "84177003",
   "metadata": {},
   "outputs": [
    {
     "name": "stderr",
     "output_type": "stream",
     "text": [
      "2025-10-23 21:37:07.969 WARNING streamlit.runtime.scriptrunner_utils.script_run_context: Thread 'MainThread': missing ScriptRunContext! This warning can be ignored when running in bare mode.\n",
      "2025-10-23 21:37:07.970 WARNING streamlit.runtime.state.session_state_proxy: Session state does not function when running a script without `streamlit run`\n",
      "2025-10-23 21:37:07.971 WARNING streamlit.runtime.scriptrunner_utils.script_run_context: Thread 'MainThread': missing ScriptRunContext! This warning can be ignored when running in bare mode.\n",
      "2025-10-23 21:37:07.972 WARNING streamlit.runtime.scriptrunner_utils.script_run_context: Thread 'MainThread': missing ScriptRunContext! This warning can be ignored when running in bare mode.\n",
      "2025-10-23 21:37:07.972 WARNING streamlit.runtime.scriptrunner_utils.script_run_context: Thread 'MainThread': missing ScriptRunContext! This warning can be ignored when running in bare mode.\n"
     ]
    },
    {
     "name": "stdout",
     "output_type": "stream",
     "text": [
      "{'High-Flow Nasen CPAP': {'High-Flow Nasen CPAP 1': ['|||23.09.2025 18:13||||||||||||||||||', '||||System gewechselt|||||Optiflow an Dräger V500||||||||||||T. S.', '||||O2 in %|||||50||||||||||||T. S.', '||||Flow|||||50||||||||||||T. S.', '|||23.09.2025 21:25||||||||||||||||||', '|||||||||||||||||||||T. S.', '|||23.09.2025 23:00||||||||||||||||||', '||||O2 in %|||||40||||||||||||M. K.', '||||Flow|||||50||||||||||||M. K.', '|||24.09.2025 06:56||||||||||||||||||', '||||O2 in %|||||35||||||||||||C. U.', '||||Flow|||||45||||||||||||C. U.', '|||24.09.2025 07:00||||||||||||||||||', '||||O2 in %|||||35||||||||||||C. U.', '||||Flow|||||45||||||||||||C. U.', '|||24.09.2025 14:58||||||||||||||||||', '||||O2 in %|||||45||||||||||||Z. T.', '||||Flow|||||45||||||||||||Z. T.', '|||24.09.2025 19:16||||||||||||||||||', '|||||||||||||||||||||Z. T.'], 'High-Flow Nasen CPAP 2': ['|||24.09.2025 20:37||||||||||||||||||', '||||O2 in %|||||45||||||||||||Z. T.', '||||Flow|||||45||||||||||||Z. T.', '|||24.09.2025 23:00||||||||||||||||||', '||||O2 in %|||||45||||||||||||M. K.', '||||Flow|||||45||||||||||||M. K.', '|||25.09.2025 07:45||||||||||||||||||', '|||||||||||||||||||||S. R.'], 'High-Flow Nasen CPAP 3': ['|||25.09.2025 15:00||||||||||||||||||', '||||O2 in %|||||40||||||||||||J. M.', '||||Flow|||||45||||||||||||J. M.', '|||25.09.2025 18:00||||||||||||||||||', '||||O2 in %|||||40||||||||||||J. M.', '||||Flow|||||40||||||||||||J. M.', '|||25.09.2025 20:59||||||||||||||||||', '|||||||||||||||||||||J. M.'], 'High-Flow Nasen CPAP 4': ['|||25.09.2025 22:06||||||||||||||||||', '||||O2 in %|||||40||||||||||||J. M.', '||||Flow|||||40||||||||||||J. M.', '|||25.09.2025 22:50||||||||||||||||||', '||||O2 in %|||||40||||||||||||B. K.', '||||Flow|||||40||||||||||||B. K.', '|||25.09.2025 23:00||||||||||||||||||', '||||O2 in %|||||40||||||||||||B. K.', '||||Flow|||||40||||||||||||B. K.', '|||26.09.2025 07:00||||||||||||||||||', '||||O2 in %|||||40||||||||||||T. S.', '||||Flow|||||40||||||||||||T. S.', '|||26.09.2025 14:00||||||||||||||||||', '|||||||||||||||||||||C. P.']}}\n"
     ]
    },
    {
     "name": "stderr",
     "output_type": "stream",
     "text": [
      "2025-10-23 21:37:18.647 WARNING streamlit.runtime.scriptrunner_utils.script_run_context: Thread 'MainThread': missing ScriptRunContext! This warning can be ignored when running in bare mode.\n",
      "2025-10-23 21:37:18.649 WARNING streamlit.runtime.scriptrunner_utils.script_run_context: Thread 'MainThread': missing ScriptRunContext! This warning can be ignored when running in bare mode.\n"
     ]
    },
    {
     "name": "stdout",
     "output_type": "stream",
     "text": [
      "✅ Daten erfolgreich geparst\n"
     ]
    }
   ],
   "source": [
    "# Daten laden und parsen\n",
    "CSV = \"data/gesamte_akte2.csv\"\n",
    "file = open(CSV, \"r\", encoding=\"utf-8\").read()\n",
    "DELIMITER = \"|\"\n",
    "state = state_provider.parse_data_to_state(file, DELIMITER)\n",
    "\n",
    "print(\"✅ Daten erfolgreich geparst\")"
   ]
  },
  {
   "cell_type": "code",
   "execution_count": 4,
   "id": "5ddc0849",
   "metadata": {},
   "outputs": [
    {
     "name": "stdout",
     "output_type": "stream",
     "text": [
      "Verfügbare StateProvider Methoden:\n",
      "   1. data_parser\n",
      "   2. get_device_time_ranges\n",
      "   3. get_respiration_type\n",
      "   4. get_respiratory_value\n",
      "   5. get_selected_view\n",
      "   6. get_state\n",
      "   7. get_time_of_mcs\n",
      "   8. get_time_range\n",
      "   9. get_vasoactive_agents_df\n",
      "  10. get_vitals_value\n",
      "  11. has_device_past_24h\n",
      "  12. has_mcs_records_past_24h\n",
      "  13. has_parsed_data\n",
      "  14. parse_data_to_state\n",
      "  15. query_data\n",
      "  16. reset_state\n",
      "  17. save_state\n",
      "  18. set_selected_time_range\n",
      "  19. update_state\n"
     ]
    }
   ],
   "source": [
    "# Hilfsfunktion: Alle verfügbaren Methoden anzeigen\n",
    "def show_available_methods():\n",
    "    methods = [method for method in dir(state_provider) if not method.startswith('_')]\n",
    "    print(\"Verfügbare StateProvider Methoden:\")\n",
    "    for i, method in enumerate(methods, 1):\n",
    "        print(f\"  {i:2}. {method}\")\n",
    "    return methods\n",
    "\n",
    "# Methoden anzeigen\n",
    "available_methods = show_available_methods()"
   ]
  },
  {
   "cell_type": "code",
   "execution_count": 5,
   "id": "3b3b470b",
   "metadata": {},
   "outputs": [
    {
     "name": "stderr",
     "output_type": "stream",
     "text": [
      "2025-10-23 21:37:18.755 WARNING streamlit.runtime.scriptrunner_utils.script_run_context: Thread 'MainThread': missing ScriptRunContext! This warning can be ignored when running in bare mode.\n",
      "2025-10-23 21:37:18.756 WARNING streamlit.runtime.scriptrunner_utils.script_run_context: Thread 'MainThread': missing ScriptRunContext! This warning can be ignored when running in bare mode.\n"
     ]
    },
    {
     "name": "stdout",
     "output_type": "stream",
     "text": [
      "                                     category       start         end\n",
      "0  Hämofilter   V. jugularis interna links  1  2025-09-14  2025-09-15\n",
      "1  Hämofilter   V. jugularis interna links  2  2025-09-16  2025-09-18\n",
      "2  Hämofilter   V. jugularis interna links  3  2025-09-18  2025-09-24\n",
      "3  Hämofilter   V. jugularis interna links  4  2025-09-24  2025-09-25\n",
      "4             Hämofilter Heizung Temperatur 1  2025-09-25  2025-09-25\n"
     ]
    }
   ],
   "source": [
    "# get's last date of ecmo as example of a day with full mcs support\n",
    "from services.date_as_datetime import get_date_as_datetime\n",
    "impella = state_provider.get_device_time_ranges(\"hämofilter\")\n",
    "print(impella)"
   ]
  },
  {
   "cell_type": "code",
   "execution_count": 6,
   "id": "19a4fd08",
   "metadata": {},
   "outputs": [],
   "source": [
    "from services.data_parser import DataParser\n",
    "parser = DataParser(file, \";\")"
   ]
  },
  {
   "cell_type": "code",
   "execution_count": 7,
   "id": "51a3159f",
   "metadata": {},
   "outputs": [
    {
     "ename": "AttributeError",
     "evalue": "'DataParser' object has no attribute 'parse_medication_data'",
     "output_type": "error",
     "traceback": [
      "\u001b[31m---------------------------------------------------------------------------\u001b[39m",
      "\u001b[31mAttributeError\u001b[39m                            Traceback (most recent call last)",
      "\u001b[36mCell\u001b[39m\u001b[36m \u001b[39m\u001b[32mIn[7]\u001b[39m\u001b[32m, line 1\u001b[39m\n\u001b[32m----> \u001b[39m\u001b[32m1\u001b[39m parse_medication_data = \u001b[43mparser\u001b[49m\u001b[43m.\u001b[49m\u001b[43mparse_medication_data\u001b[49m()\n",
      "\u001b[31mAttributeError\u001b[39m: 'DataParser' object has no attribute 'parse_medication_data'"
     ]
    }
   ],
   "source": [
    "parse_medication_data = parser.parse_medication_data()"
   ]
  },
  {
   "cell_type": "code",
   "execution_count": null,
   "id": "7ecd4527",
   "metadata": {},
   "outputs": [],
   "source": [
    "nirs = parser._get_from_all_patient_data_by_string(\"NIRS\")"
   ]
  },
  {
   "cell_type": "code",
   "execution_count": 9,
   "id": "65f6e24d",
   "metadata": {},
   "outputs": [
    {
     "name": "stderr",
     "output_type": "stream",
     "text": [
      "2025-10-23 21:37:49.102 WARNING streamlit.runtime.scriptrunner_utils.script_run_context: Thread 'MainThread': missing ScriptRunContext! This warning can be ignored when running in bare mode.\n",
      "2025-10-23 21:37:49.102 WARNING streamlit.runtime.scriptrunner_utils.script_run_context: Thread 'MainThread': missing ScriptRunContext! This warning can be ignored when running in bare mode.\n"
     ]
    }
   ],
   "source": [
    "#state_provider.get_vitals_value(datetime.strptime(\"2024-09-07\", \"%Y-%m-%d\").date(), \"on\", \"blood_pressure\", \"mean\")\n",
    "state = state_provider.get_state()\n",
    "vitals = state.parsed_data.vitals"
   ]
  },
  {
   "cell_type": "code",
   "execution_count": 10,
   "id": "bd9b8071",
   "metadata": {},
   "outputs": [
    {
     "name": "stderr",
     "output_type": "stream",
     "text": [
      "2025-10-23 21:37:51.036 WARNING streamlit.runtime.scriptrunner_utils.script_run_context: Thread 'MainThread': missing ScriptRunContext! This warning can be ignored when running in bare mode.\n",
      "2025-10-23 21:37:51.038 WARNING streamlit.runtime.scriptrunner_utils.script_run_context: Thread 'MainThread': missing ScriptRunContext! This warning can be ignored when running in bare mode.\n"
     ]
    },
    {
     "data": {
      "text/plain": [
       "94.0"
      ]
     },
     "execution_count": 10,
     "metadata": {},
     "output_type": "execute_result"
    }
   ],
   "source": [
    "# Filter rows where the category contains \"Online\"\n",
    "# use .str.contains to get a boolean mask (safer than \"in\" on a Series)\n",
    "art = state_provider.get_vitals_value(datetime.strptime(\"2025-09-16\", \"%Y-%m-%d\").date(), \"ARTs\")\n",
    "art"
   ]
  },
  {
   "cell_type": "code",
   "execution_count": 8,
   "id": "d5780f1a",
   "metadata": {},
   "outputs": [
    {
     "data": {
      "text/html": [
       "<div>\n",
       "<style scoped>\n",
       "    .dataframe tbody tr th:only-of-type {\n",
       "        vertical-align: middle;\n",
       "    }\n",
       "\n",
       "    .dataframe tbody tr th {\n",
       "        vertical-align: top;\n",
       "    }\n",
       "\n",
       "    .dataframe thead th {\n",
       "        text-align: right;\n",
       "    }\n",
       "</style>\n",
       "<table border=\"1\" class=\"dataframe\">\n",
       "  <thead>\n",
       "    <tr style=\"text-align: right;\">\n",
       "      <th></th>\n",
       "      <th>medication</th>\n",
       "      <th>category</th>\n",
       "      <th>application</th>\n",
       "      <th>start</th>\n",
       "      <th>stop</th>\n",
       "      <th>concentration</th>\n",
       "      <th>rate</th>\n",
       "    </tr>\n",
       "  </thead>\n",
       "  <tbody>\n",
       "    <tr>\n",
       "      <th>685</th>\n",
       "      <td>Vasopressin Perfusor 40 IE / 40 ml   Empressin...</td>\n",
       "      <td>Perfusoren</td>\n",
       "      <td>Perfusor</td>\n",
       "      <td>2025-09-14 12:57:00</td>\n",
       "      <td>2025-09-14 13:00:00</td>\n",
       "      <td>40 I.E. 2 mL 1 Amp. 5,852 mmol 38 mL 0,76 Gla...</td>\n",
       "      <td>1.0</td>\n",
       "    </tr>\n",
       "    <tr>\n",
       "      <th>686</th>\n",
       "      <td>Vasopressin Perfusor 40 IE / 40 ml   Empressin...</td>\n",
       "      <td>Perfusoren</td>\n",
       "      <td>Perfusor</td>\n",
       "      <td>2025-09-14 13:00:00</td>\n",
       "      <td>2025-09-14 15:03:00</td>\n",
       "      <td>40 I.E. 2 mL 1 Amp. 5,852 mmol 38 mL 0,76 Gla...</td>\n",
       "      <td>2.0</td>\n",
       "    </tr>\n",
       "    <tr>\n",
       "      <th>687</th>\n",
       "      <td>Vasopressin Perfusor 40 IE / 40 ml   Empressin...</td>\n",
       "      <td>Perfusoren</td>\n",
       "      <td>Perfusor</td>\n",
       "      <td>2025-09-14 15:03:00</td>\n",
       "      <td>2025-09-14 17:28:00</td>\n",
       "      <td>40 I.E. 2 mL 1 Amp. 5,852 mmol 38 mL 0,76 Gla...</td>\n",
       "      <td>2.0</td>\n",
       "    </tr>\n",
       "    <tr>\n",
       "      <th>688</th>\n",
       "      <td>Vasopressin Perfusor 40 IE / 40 ml   Empressin...</td>\n",
       "      <td>Perfusoren</td>\n",
       "      <td>Perfusor</td>\n",
       "      <td>2025-09-14 17:28:00</td>\n",
       "      <td>2025-09-15 03:55:00</td>\n",
       "      <td>40 I.E. 2 mL 1 Amp. 5,852 mmol 38 mL 0,76 Gla...</td>\n",
       "      <td>1.5</td>\n",
       "    </tr>\n",
       "    <tr>\n",
       "      <th>689</th>\n",
       "      <td>Vasopressin Perfusor 40 IE / 40 ml   Empressin...</td>\n",
       "      <td>Perfusoren</td>\n",
       "      <td>Perfusor</td>\n",
       "      <td>2025-09-15 03:55:00</td>\n",
       "      <td>2025-09-15 08:34:00</td>\n",
       "      <td>40 I.E. 2 mL 1 Amp. 5,852 mmol 38 mL 0,76 Gla...</td>\n",
       "      <td>1.0</td>\n",
       "    </tr>\n",
       "    <tr>\n",
       "      <th>690</th>\n",
       "      <td>Vasopressin Perfusor 40 IE / 40 ml   Empressin...</td>\n",
       "      <td>Perfusoren</td>\n",
       "      <td>Perfusor</td>\n",
       "      <td>2025-09-15 08:34:00</td>\n",
       "      <td>2025-09-15 10:06:00</td>\n",
       "      <td>40 I.E. 2 mL 1 Amp. 5,852 mmol 38 mL 0,76 Gla...</td>\n",
       "      <td>1.2</td>\n",
       "    </tr>\n",
       "    <tr>\n",
       "      <th>691</th>\n",
       "      <td>Vasopressin Perfusor 40 IE / 40 ml   Empressin...</td>\n",
       "      <td>Perfusoren</td>\n",
       "      <td>Perfusor</td>\n",
       "      <td>2025-09-15 10:06:00</td>\n",
       "      <td>2025-09-15 10:45:00</td>\n",
       "      <td>40 I.E. 2 mL 1 Amp. 5,852 mmol 38 mL 0,76 Gla...</td>\n",
       "      <td>1.5</td>\n",
       "    </tr>\n",
       "    <tr>\n",
       "      <th>692</th>\n",
       "      <td>Vasopressin Perfusor 40 IE / 40 ml   Empressin...</td>\n",
       "      <td>Perfusoren</td>\n",
       "      <td>Perfusor</td>\n",
       "      <td>2025-09-15 10:45:00</td>\n",
       "      <td>2025-09-15 14:41:00</td>\n",
       "      <td>40 I.E. 2 mL 1 Amp. 5,852 mmol 38 mL 0,76 Gla...</td>\n",
       "      <td>2.0</td>\n",
       "    </tr>\n",
       "    <tr>\n",
       "      <th>740</th>\n",
       "      <td>Vasopressin Perfusor 40 IE / 40 ml   Empressin...</td>\n",
       "      <td>Perfusoren</td>\n",
       "      <td>Perfusor</td>\n",
       "      <td>2025-09-15 14:41:00</td>\n",
       "      <td>2025-09-15 15:18:00</td>\n",
       "      <td>40 I.E. 2 mL 1 Amp. 5,852 mmol 38 mL 0,76 Gla...</td>\n",
       "      <td>2.0</td>\n",
       "    </tr>\n",
       "    <tr>\n",
       "      <th>741</th>\n",
       "      <td>Vasopressin Perfusor 40 IE / 40 ml   Empressin...</td>\n",
       "      <td>Perfusoren</td>\n",
       "      <td>Perfusor</td>\n",
       "      <td>2025-09-15 15:18:00</td>\n",
       "      <td>2025-09-15 18:46:00</td>\n",
       "      <td>40 I.E. 2 mL 1 Amp. 5,852 mmol 38 mL 0,76 Gla...</td>\n",
       "      <td>1.0</td>\n",
       "    </tr>\n",
       "    <tr>\n",
       "      <th>742</th>\n",
       "      <td>Vasopressin Perfusor 40 IE / 40 ml   Empressin...</td>\n",
       "      <td>Perfusoren</td>\n",
       "      <td>Perfusor</td>\n",
       "      <td>2025-09-15 18:46:00</td>\n",
       "      <td>2025-09-15 21:20:00</td>\n",
       "      <td>40 I.E. 2 mL 1 Amp. 5,852 mmol 38 mL 0,76 Gla...</td>\n",
       "      <td>3.0</td>\n",
       "    </tr>\n",
       "    <tr>\n",
       "      <th>743</th>\n",
       "      <td>Vasopressin Perfusor 40 IE / 40 ml   Empressin...</td>\n",
       "      <td>Perfusoren</td>\n",
       "      <td>Perfusor</td>\n",
       "      <td>2025-09-15 21:20:00</td>\n",
       "      <td>2025-09-15 21:35:00</td>\n",
       "      <td>40 I.E. 2 mL 1 Amp. 5,852 mmol 38 mL 0,76 Gla...</td>\n",
       "      <td>1.0</td>\n",
       "    </tr>\n",
       "    <tr>\n",
       "      <th>744</th>\n",
       "      <td>Vasopressin Perfusor 40 IE / 40 ml   Empressin...</td>\n",
       "      <td>Perfusoren</td>\n",
       "      <td>Perfusor</td>\n",
       "      <td>2025-09-15 21:35:00</td>\n",
       "      <td>2025-09-16 02:30:00</td>\n",
       "      <td>40 I.E. 2 mL 1 Amp. 5,852 mmol 38 mL 0,76 Gla...</td>\n",
       "      <td>0.1</td>\n",
       "    </tr>\n",
       "    <tr>\n",
       "      <th>745</th>\n",
       "      <td>Vasopressin Perfusor 40 IE / 40 ml   Empressin...</td>\n",
       "      <td>Perfusoren</td>\n",
       "      <td>Perfusor</td>\n",
       "      <td>2025-09-16 02:30:00</td>\n",
       "      <td>2025-09-16 06:57:00</td>\n",
       "      <td>40 I.E. 2 mL 1 Amp. 5,852 mmol 38 mL 0,76 Gla...</td>\n",
       "      <td>0.0</td>\n",
       "    </tr>\n",
       "  </tbody>\n",
       "</table>\n",
       "</div>"
      ],
      "text/plain": [
       "                                            medication    category  \\\n",
       "685  Vasopressin Perfusor 40 IE / 40 ml   Empressin...  Perfusoren   \n",
       "686  Vasopressin Perfusor 40 IE / 40 ml   Empressin...  Perfusoren   \n",
       "687  Vasopressin Perfusor 40 IE / 40 ml   Empressin...  Perfusoren   \n",
       "688  Vasopressin Perfusor 40 IE / 40 ml   Empressin...  Perfusoren   \n",
       "689  Vasopressin Perfusor 40 IE / 40 ml   Empressin...  Perfusoren   \n",
       "690  Vasopressin Perfusor 40 IE / 40 ml   Empressin...  Perfusoren   \n",
       "691  Vasopressin Perfusor 40 IE / 40 ml   Empressin...  Perfusoren   \n",
       "692  Vasopressin Perfusor 40 IE / 40 ml   Empressin...  Perfusoren   \n",
       "740  Vasopressin Perfusor 40 IE / 40 ml   Empressin...  Perfusoren   \n",
       "741  Vasopressin Perfusor 40 IE / 40 ml   Empressin...  Perfusoren   \n",
       "742  Vasopressin Perfusor 40 IE / 40 ml   Empressin...  Perfusoren   \n",
       "743  Vasopressin Perfusor 40 IE / 40 ml   Empressin...  Perfusoren   \n",
       "744  Vasopressin Perfusor 40 IE / 40 ml   Empressin...  Perfusoren   \n",
       "745  Vasopressin Perfusor 40 IE / 40 ml   Empressin...  Perfusoren   \n",
       "\n",
       "    application               start                stop  \\\n",
       "685    Perfusor 2025-09-14 12:57:00 2025-09-14 13:00:00   \n",
       "686    Perfusor 2025-09-14 13:00:00 2025-09-14 15:03:00   \n",
       "687    Perfusor 2025-09-14 15:03:00 2025-09-14 17:28:00   \n",
       "688    Perfusor 2025-09-14 17:28:00 2025-09-15 03:55:00   \n",
       "689    Perfusor 2025-09-15 03:55:00 2025-09-15 08:34:00   \n",
       "690    Perfusor 2025-09-15 08:34:00 2025-09-15 10:06:00   \n",
       "691    Perfusor 2025-09-15 10:06:00 2025-09-15 10:45:00   \n",
       "692    Perfusor 2025-09-15 10:45:00 2025-09-15 14:41:00   \n",
       "740    Perfusor 2025-09-15 14:41:00 2025-09-15 15:18:00   \n",
       "741    Perfusor 2025-09-15 15:18:00 2025-09-15 18:46:00   \n",
       "742    Perfusor 2025-09-15 18:46:00 2025-09-15 21:20:00   \n",
       "743    Perfusor 2025-09-15 21:20:00 2025-09-15 21:35:00   \n",
       "744    Perfusor 2025-09-15 21:35:00 2025-09-16 02:30:00   \n",
       "745    Perfusor 2025-09-16 02:30:00 2025-09-16 06:57:00   \n",
       "\n",
       "                                         concentration  rate  \n",
       "685   40 I.E. 2 mL 1 Amp. 5,852 mmol 38 mL 0,76 Gla...   1.0  \n",
       "686   40 I.E. 2 mL 1 Amp. 5,852 mmol 38 mL 0,76 Gla...   2.0  \n",
       "687   40 I.E. 2 mL 1 Amp. 5,852 mmol 38 mL 0,76 Gla...   2.0  \n",
       "688   40 I.E. 2 mL 1 Amp. 5,852 mmol 38 mL 0,76 Gla...   1.5  \n",
       "689   40 I.E. 2 mL 1 Amp. 5,852 mmol 38 mL 0,76 Gla...   1.0  \n",
       "690   40 I.E. 2 mL 1 Amp. 5,852 mmol 38 mL 0,76 Gla...   1.2  \n",
       "691   40 I.E. 2 mL 1 Amp. 5,852 mmol 38 mL 0,76 Gla...   1.5  \n",
       "692   40 I.E. 2 mL 1 Amp. 5,852 mmol 38 mL 0,76 Gla...   2.0  \n",
       "740   40 I.E. 2 mL 1 Amp. 5,852 mmol 38 mL 0,76 Gla...   2.0  \n",
       "741   40 I.E. 2 mL 1 Amp. 5,852 mmol 38 mL 0,76 Gla...   1.0  \n",
       "742   40 I.E. 2 mL 1 Amp. 5,852 mmol 38 mL 0,76 Gla...   3.0  \n",
       "743   40 I.E. 2 mL 1 Amp. 5,852 mmol 38 mL 0,76 Gla...   1.0  \n",
       "744   40 I.E. 2 mL 1 Amp. 5,852 mmol 38 mL 0,76 Gla...   0.1  \n",
       "745   40 I.E. 2 mL 1 Amp. 5,852 mmol 38 mL 0,76 Gla...   0.0  "
      ]
     },
     "execution_count": 8,
     "metadata": {},
     "output_type": "execute_result"
    }
   ],
   "source": [
    "medication = state.parsed_data.medication\n",
    "medication[medication[\"medication\"].str.contains(\"Empres\", na=False)]"
   ]
  },
  {
   "cell_type": "code",
   "execution_count": 12,
   "id": "f48c5dac",
   "metadata": {},
   "outputs": [
    {
     "data": {
      "text/plain": [
       "array(['Compliance [L·bar⁻¹]', 'Druckunterstützung [hPa]', 'FiO2 [%]',\n",
       "       'Gesamtatemfrequenz [min⁻¹]', 'I:E [1]', 'Inspirationszeit [s]',\n",
       "       'Modus', 'PEEP [hPa]', 'PEEP [mbar]', 'Ppeak [mbar]',\n",
       "       'Resistance [mbar·L⁻¹·s]', 'Spontanatemfrequenz [min⁻¹]',\n",
       "       'exsp. Gesamtminutenvolumen [L·min⁻¹]', 'exsp. Tidalvolumen [mL]',\n",
       "       'insp. Spitzendruck [mbar]', 'mand. Atemfrequenz [min⁻¹]',\n",
       "       'RSBI [bpm·min⁻¹·L⁻¹]', 'EtCO2 [mmHg]', 'MACe [%]', 'MACi [%]',\n",
       "       'exsp. Spontanminutenvolumen [L·min⁻¹]', 'Leckage [%]',\n",
       "       'Ppeak [hPa]', 'Rampe [s]',\n",
       "       'Rapid Shallow Breathing Index [bpm·min⁻¹·L⁻¹]',\n",
       "       'exsp. Spontanminutenvolumen [mL·min⁻¹]',\n",
       "       'mandatorische Atemfrequenz [min⁻¹]', 'Atemfrequenz gesamt /Min.',\n",
       "       'Atemfrequenz maschinell /Min.', 'Atemfrequenz spontan /Min.',\n",
       "       'Atemzugvolumen insp. in mL', 'Druckunterstützung / PS /ASB',\n",
       "       'Exp. Minutenvolumen in L/Min.', 'FiO2 in %', 'I:E Verhältnis'],\n",
       "      dtype=object)"
      ]
     },
     "execution_count": 12,
     "metadata": {},
     "output_type": "execute_result"
    }
   ],
   "source": [
    "respiratory = state.parsed_data.respiratory\n",
    "respiratory[\"parameter\"].unique()"
   ]
  },
  {
   "cell_type": "code",
   "execution_count": 11,
   "id": "907e318d",
   "metadata": {},
   "outputs": [
    {
     "ename": "NameError",
     "evalue": "name 'respiratory' is not defined",
     "output_type": "error",
     "traceback": [
      "\u001b[31m---------------------------------------------------------------------------\u001b[39m",
      "\u001b[31mNameError\u001b[39m                                 Traceback (most recent call last)",
      "\u001b[36mCell\u001b[39m\u001b[36m \u001b[39m\u001b[32mIn[11]\u001b[39m\u001b[32m, line 1\u001b[39m\n\u001b[32m----> \u001b[39m\u001b[32m1\u001b[39m \u001b[43mrespiratory\u001b[49m[respiratory[\u001b[33m\"\u001b[39m\u001b[33mparameter\u001b[39m\u001b[33m\"\u001b[39m].str.contains(\u001b[33m\"\u001b[39m\u001b[33mModus\u001b[39m\u001b[33m\"\u001b[39m)]\n",
      "\u001b[31mNameError\u001b[39m: name 'respiratory' is not defined"
     ]
    }
   ],
   "source": [
    "respiratory[respiratory[\"parameter\"].str.contains(\"Modus\")]"
   ]
  },
  {
   "cell_type": "code",
   "execution_count": 13,
   "id": "5224e1f6",
   "metadata": {},
   "outputs": [
    {
     "data": {
      "text/html": [
       "<div>\n",
       "<style scoped>\n",
       "    .dataframe tbody tr th:only-of-type {\n",
       "        vertical-align: middle;\n",
       "    }\n",
       "\n",
       "    .dataframe tbody tr th {\n",
       "        vertical-align: top;\n",
       "    }\n",
       "\n",
       "    .dataframe thead th {\n",
       "        text-align: right;\n",
       "    }\n",
       "</style>\n",
       "<table border=\"1\" class=\"dataframe\">\n",
       "  <thead>\n",
       "    <tr style=\"text-align: right;\">\n",
       "      <th></th>\n",
       "      <th>timestamp</th>\n",
       "      <th>value</th>\n",
       "      <th>category</th>\n",
       "      <th>parameter</th>\n",
       "      <th>source_header</th>\n",
       "    </tr>\n",
       "  </thead>\n",
       "  <tbody>\n",
       "    <tr>\n",
       "      <th>0</th>\n",
       "      <td>2025-09-15 20:55:00</td>\n",
       "      <td>blutig</td>\n",
       "      <td>Impella   A. axilliaris rechts  1</td>\n",
       "      <td>Beobachtung</td>\n",
       "      <td>Impella   A. axilliaris rechts</td>\n",
       "    </tr>\n",
       "    <tr>\n",
       "      <th>1</th>\n",
       "      <td>2025-09-15 20:55:00</td>\n",
       "      <td>3.4</td>\n",
       "      <td>Impella   A. axilliaris rechts  1</td>\n",
       "      <td>HZV (l/min)</td>\n",
       "      <td>Impella   A. axilliaris rechts</td>\n",
       "    </tr>\n",
       "    <tr>\n",
       "      <th>2</th>\n",
       "      <td>2025-09-15 20:55:00</td>\n",
       "      <td>ultraschallgestützt (TEE)</td>\n",
       "      <td>Impella   A. axilliaris rechts  1</td>\n",
       "      <td>HZV (l/min)</td>\n",
       "      <td>Impella   A. axilliaris rechts</td>\n",
       "    </tr>\n",
       "    <tr>\n",
       "      <th>3</th>\n",
       "      <td>2025-09-15 20:55:00</td>\n",
       "      <td>Impella implantiert</td>\n",
       "      <td>Impella   A. axilliaris rechts  1</td>\n",
       "      <td>Zustand</td>\n",
       "      <td>Impella   A. axilliaris rechts</td>\n",
       "    </tr>\n",
       "    <tr>\n",
       "      <th>4</th>\n",
       "      <td>2025-09-16 01:21:00</td>\n",
       "      <td>1.4</td>\n",
       "      <td>Impella   A. axilliaris rechts  1</td>\n",
       "      <td>HZV (l/min)</td>\n",
       "      <td>Impella   A. axilliaris rechts</td>\n",
       "    </tr>\n",
       "    <tr>\n",
       "      <th>...</th>\n",
       "      <td>...</td>\n",
       "      <td>...</td>\n",
       "      <td>...</td>\n",
       "      <td>...</td>\n",
       "      <td>...</td>\n",
       "    </tr>\n",
       "    <tr>\n",
       "      <th>84</th>\n",
       "      <td>2025-09-19 14:29:00</td>\n",
       "      <td>Verband trocken</td>\n",
       "      <td>Impella   A. axilliaris rechts  1</td>\n",
       "      <td>Beobachtung</td>\n",
       "      <td>Impella   A. axilliaris rechts</td>\n",
       "    </tr>\n",
       "    <tr>\n",
       "      <th>85</th>\n",
       "      <td>2025-09-19 14:29:00</td>\n",
       "      <td>2.2</td>\n",
       "      <td>Impella   A. axilliaris rechts  1</td>\n",
       "      <td>HZV (l/min)</td>\n",
       "      <td>Impella   A. axilliaris rechts</td>\n",
       "    </tr>\n",
       "    <tr>\n",
       "      <th>86</th>\n",
       "      <td>2025-09-19 14:29:00</td>\n",
       "      <td>513.0</td>\n",
       "      <td>Impella   A. axilliaris rechts  1</td>\n",
       "      <td>Purgedruck in mmHg</td>\n",
       "      <td>Impella   A. axilliaris rechts</td>\n",
       "    </tr>\n",
       "    <tr>\n",
       "      <th>87</th>\n",
       "      <td>2025-09-19 14:29:00</td>\n",
       "      <td>6.6</td>\n",
       "      <td>Impella   A. axilliaris rechts  1</td>\n",
       "      <td>Purgefluß in ml/h</td>\n",
       "      <td>Impella   A. axilliaris rechts</td>\n",
       "    </tr>\n",
       "    <tr>\n",
       "      <th>88</th>\n",
       "      <td>2025-09-19 14:29:00</td>\n",
       "      <td>P3</td>\n",
       "      <td>Impella   A. axilliaris rechts  1</td>\n",
       "      <td>Flußregelung</td>\n",
       "      <td>Impella   A. axilliaris rechts</td>\n",
       "    </tr>\n",
       "  </tbody>\n",
       "</table>\n",
       "<p>89 rows × 5 columns</p>\n",
       "</div>"
      ],
      "text/plain": [
       "             timestamp                      value  \\\n",
       "0  2025-09-15 20:55:00                     blutig   \n",
       "1  2025-09-15 20:55:00                        3.4   \n",
       "2  2025-09-15 20:55:00  ultraschallgestützt (TEE)   \n",
       "3  2025-09-15 20:55:00        Impella implantiert   \n",
       "4  2025-09-16 01:21:00                        1.4   \n",
       "..                 ...                        ...   \n",
       "84 2025-09-19 14:29:00            Verband trocken   \n",
       "85 2025-09-19 14:29:00                        2.2   \n",
       "86 2025-09-19 14:29:00                      513.0   \n",
       "87 2025-09-19 14:29:00                        6.6   \n",
       "88 2025-09-19 14:29:00                         P3   \n",
       "\n",
       "                             category           parameter  \\\n",
       "0   Impella   A. axilliaris rechts  1         Beobachtung   \n",
       "1   Impella   A. axilliaris rechts  1         HZV (l/min)   \n",
       "2   Impella   A. axilliaris rechts  1         HZV (l/min)   \n",
       "3   Impella   A. axilliaris rechts  1             Zustand   \n",
       "4   Impella   A. axilliaris rechts  1         HZV (l/min)   \n",
       "..                                ...                 ...   \n",
       "84  Impella   A. axilliaris rechts  1         Beobachtung   \n",
       "85  Impella   A. axilliaris rechts  1         HZV (l/min)   \n",
       "86  Impella   A. axilliaris rechts  1  Purgedruck in mmHg   \n",
       "87  Impella   A. axilliaris rechts  1   Purgefluß in ml/h   \n",
       "88  Impella   A. axilliaris rechts  1        Flußregelung   \n",
       "\n",
       "                      source_header  \n",
       "0   Impella   A. axilliaris rechts   \n",
       "1   Impella   A. axilliaris rechts   \n",
       "2   Impella   A. axilliaris rechts   \n",
       "3   Impella   A. axilliaris rechts   \n",
       "4   Impella   A. axilliaris rechts   \n",
       "..                              ...  \n",
       "84  Impella   A. axilliaris rechts   \n",
       "85  Impella   A. axilliaris rechts   \n",
       "86  Impella   A. axilliaris rechts   \n",
       "87  Impella   A. axilliaris rechts   \n",
       "88  Impella   A. axilliaris rechts   \n",
       "\n",
       "[89 rows x 5 columns]"
      ]
     },
     "execution_count": 13,
     "metadata": {},
     "output_type": "execute_result"
    }
   ],
   "source": [
    "state.parsed_data.impella"
   ]
  },
  {
   "cell_type": "code",
   "execution_count": null,
   "id": "3963f5ad",
   "metadata": {},
   "outputs": [],
   "source": []
  }
 ],
 "metadata": {
  "kernelspec": {
   "display_name": "clean-mlife (3.13.7)",
   "language": "python",
   "name": "python3"
  },
  "language_info": {
   "codemirror_mode": {
    "name": "ipython",
    "version": 3
   },
   "file_extension": ".py",
   "mimetype": "text/x-python",
   "name": "python",
   "nbconvert_exporter": "python",
   "pygments_lexer": "ipython3",
   "version": "3.13.7"
  }
 },
 "nbformat": 4,
 "nbformat_minor": 5
}
